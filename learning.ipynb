{
 "cells": [
  {
   "cell_type": "code",
   "execution_count": 7,
   "id": "45cdbeb0",
   "metadata": {},
   "outputs": [
    {
     "name": "stdout",
     "output_type": "stream",
     "text": [
      "Exiting loop\n"
     ]
    },
    {
     "data": {
      "text/plain": [
       "-1"
      ]
     },
     "execution_count": 7,
     "metadata": {},
     "output_type": "execute_result"
    }
   ],
   "source": [
    "import numpy as np\n",
    "import time\n",
    "import math\n",
    "%matplotlib inline\n",
    "from ipywidgets import interactive\n",
    "import matplotlib.pyplot as plt\n",
    "import cv2\n",
    "\n",
    "\n",
    "\n",
    "\n",
    "cam = cv2.VideoCapture(0)\n",
    "count = 0 \n",
    "\n",
    "while(True):\n",
    "    success, frame = cam.read()\n",
    "    \n",
    "    flipped = cv2.flip(frame, 1)\n",
    "\n",
    "    \n",
    "    if (success == False):\n",
    "\n",
    "        print(\"Cannot read frame\")\n",
    "        \n",
    "        break\n",
    "    \n",
    "    \n",
    "    rn = np.random.rand(10,50)\n",
    "   \n",
    "\n",
    "\n",
    "    \n",
    "  \n",
    "    \n",
    "    #frame[:, :, 2] = 0\n",
    "    #frame[250:400, 100:500, :] += 90\n",
    "\n",
    "    \n",
    "    #frame = cv2.cvtColor(frame, cv2.COLOR_RGB2BGR)\n",
    "    \n",
    "    \n",
    "    \n",
    "    key = cv2.waitKey(20) & 0xFF\n",
    "    \n",
    "    \n",
    "    if(key == ord('b')):\n",
    "        count=1\n",
    "    if(key == ord('f')):\n",
    "        count=2\n",
    "    if(key == ord('h')):\n",
    "        count=3\n",
    "    if(key == ord('s')):\n",
    "        count=0 \n",
    " \n",
    "    if(count == 0 ):\n",
    "        cv2.imshow(\"frame\",flipped)\n",
    "        \n",
    "    if(count == 1):\n",
    "        ksz = 9\n",
    "        blr =cv2.medianBlur(flipped,ksz) \n",
    "        cv2.imshow(\"frame\",blr)\n",
    "        \n",
    "    if(count == 2):\n",
    "        freeze = 255 - flipped\n",
    "        cv2.imshow(\"frame\",freeze)\n",
    "    \n",
    "    if(count == 3):\n",
    "        hsv = cv2.cvtColor(flipped, cv2.COLOR_RGB2HSV)\n",
    "        cv2.imshow(\"frame\",hsv)\n",
    "        \n",
    "    if (key == ord('q')):\n",
    "        print(\"Exiting loop\")\n",
    "        break\n",
    "\n",
    "cam.release()\n",
    "cv2.destroyAllWindows()\n",
    "cv2.waitKey(10)"
   ]
  },
  {
   "cell_type": "code",
   "execution_count": null,
   "id": "064daafe",
   "metadata": {},
   "outputs": [],
   "source": []
  }
 ],
 "metadata": {
  "kernelspec": {
   "display_name": "Python 3 (ipykernel)",
   "language": "python",
   "name": "python3"
  },
  "language_info": {
   "codemirror_mode": {
    "name": "ipython",
    "version": 3
   },
   "file_extension": ".py",
   "mimetype": "text/x-python",
   "name": "python",
   "nbconvert_exporter": "python",
   "pygments_lexer": "ipython3",
   "version": "3.9.13"
  }
 },
 "nbformat": 4,
 "nbformat_minor": 5
}
